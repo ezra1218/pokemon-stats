{
 "cells": [
  {
   "cell_type": "markdown",
   "metadata": {},
   "source": [
    "# 神奇宝贝数据分析\n",
    "\n",
    "<ul>\n",
    "<li><a href=\"#intro\">一. 简介</a></li>\n",
    "<li><a href=\"#wrangling\">二. 数据整理</a></li>\n",
    "<li><a href=\"#eda\">三. 探索性数据分析</a></li>\n",
    "<li><a href=\"#conclusions\">四. 统计结论</a></li>\n",
    "</ul>\n",
    "\n",
    "<a id='intro'></a>\n",
    "## 一. 简介\n",
    "\n",
    "> **Pokemon 数据集包含了从第一代至第七代的 Pokemon 的名字、属性、能力等信息  \n",
    "本项目将通过 Pokemon 数据集探索一下几个问题：**  \n",
    "1. 具有双属性 Pokemon 的比例\n",
    "2. 最常见的 Pokemon 类别\n",
    "3. 最常见的 Pokemon 属性\n",
    "4. 各代种族值最高的 Pokemon\n",
    "5. Pokemon 性别比例\n",
    "6. Pokemon 平均身高和体重\n",
    "7. 生命值、攻击力、防御力、特殊攻击力和特殊防御力分别最高的 Pokemon\n",
    "\n",
    "> **Pokemon数据库字段描述**  \n",
    "本数据集中包含 801 条Pokemon信息  \n",
    "\n",
    "字段|描述|数据类型\n",
    "-----:|-----:|------:  \n",
    "_id  |  编号  |  int64\n",
    "english_name  |  英文名  |  object\n",
    "chinese_name  |  中文名  |  object\n",
    "category  |  类别  |  object\n",
    "type1  |  属性1  |  object\n",
    "type2  |  属性2  |  object\n",
    "ability_1  |  特性1  |  object\n",
    "ability_2 | 特性2 | object\n",
    "male_ratio  |  雄性比例 |   float64\n",
    "height_m  |  身高（米）  |  float64\n",
    "wight_kg  |  体重（公斤） |   float64\n",
    "total  |  种族值  |  int64\n",
    "hp  |  生命值  |  int64\n",
    "atk  |  攻击力  |  int64\n",
    "defense  |  防御力  |  int64\n",
    "spatk  |  特殊攻击力  |  int64\n",
    "spdef  |  特殊防御力  |  int64\n",
    "speed  |  速度  |  int64\n",
    "catch_rate  |  普通精灵球抓到的概率  |  int64\n",
    "generation  |  第几代  |  object\n",
    "image_url  |  图片链接  |  object\n",
    "hatch_time  |  孵化步数  |  int64\n",
    "exp_100 |   100级所需经验值  |  object\n",
    "against_bug  |  属性相克-虫  |  float64\n",
    "against_dark  |  属性相克-恶  |  float64\n",
    "against_dragon  |  属性相克-龙  |  float64\n",
    "against_electric  |  属性相克-电  |  float64\n",
    "against_fairy  |  属性相克-精灵  |  float64\n",
    "against_fight  |  属性相克-格斗  |  float64\n",
    "against_fire  |  属性相克-火  |  float64\n",
    "against_flying  |  属性相克-飞行  |  float64\n",
    "against_ghost  |  属性相克-幽灵  |  float64\n",
    "against_grass  |  属性相克-草  |  float64\n",
    "against_ground  |  属性相克-地面  |  float64\n",
    "against_ice  |  属性相克-冰  |  float64\n",
    "against_normal  |  属性相克-普通  |  float64\n",
    "against_poison  |  属性相克-毒  |  float64\n",
    "against_psychic  |  属性相克-精神  |  float64\n",
    "against_rock  |  属性相克-岩石  |  float64\n",
    "against_steel  |  属性相克-刚  |  float64\n",
    "against_water  |  属性相克-水  |  float64"
   ]
  },
  {
   "cell_type": "markdown",
   "metadata": {},
   "source": [
    "<a id='wrangling'></a>\n",
    "## 二. 数据整理"
   ]
  },
  {
   "cell_type": "code",
   "execution_count": 1,
   "metadata": {},
   "outputs": [],
   "source": [
    "#coding:utf-8\n",
    "import numpy as np\n",
    "import pandas as pd\n",
    "import matplotlib.pyplot as plt\n",
    "import matplotlib.font_manager as fm\n",
    "import seaborn as sns\n",
    "\n",
    "pd.set_option('max_columns', 100)\n",
    "pd.set_option('max_rows', 10000)"
   ]
  },
  {
   "cell_type": "code",
   "execution_count": 2,
   "metadata": {},
   "outputs": [],
   "source": [
    "df = pd.read_csv('POKEMONS_STATS.csv', encoding='utf-8')"
   ]
  },
  {
   "cell_type": "markdown",
   "metadata": {},
   "source": [
    "### 1. 观察数据"
   ]
  },
  {
   "cell_type": "code",
   "execution_count": 3,
   "metadata": {
    "scrolled": false
   },
   "outputs": [
    {
     "data": {
      "text/html": [
       "<div>\n",
       "<style scoped>\n",
       "    .dataframe tbody tr th:only-of-type {\n",
       "        vertical-align: middle;\n",
       "    }\n",
       "\n",
       "    .dataframe tbody tr th {\n",
       "        vertical-align: top;\n",
       "    }\n",
       "\n",
       "    .dataframe thead th {\n",
       "        text-align: right;\n",
       "    }\n",
       "</style>\n",
       "<table border=\"1\" class=\"dataframe\">\n",
       "  <thead>\n",
       "    <tr style=\"text-align: right;\">\n",
       "      <th></th>\n",
       "      <th>_id</th>\n",
       "      <th>ability_1</th>\n",
       "      <th>ability_2</th>\n",
       "      <th>against_bug</th>\n",
       "      <th>against_dark</th>\n",
       "      <th>against_dragon</th>\n",
       "      <th>against_electric</th>\n",
       "      <th>against_fairy</th>\n",
       "      <th>against_fight</th>\n",
       "      <th>against_fire</th>\n",
       "      <th>against_flying</th>\n",
       "      <th>against_ghost</th>\n",
       "      <th>against_grass</th>\n",
       "      <th>against_ground</th>\n",
       "      <th>against_ice</th>\n",
       "      <th>against_normal</th>\n",
       "      <th>against_poison</th>\n",
       "      <th>against_psychic</th>\n",
       "      <th>against_rock</th>\n",
       "      <th>against_steel</th>\n",
       "      <th>against_water</th>\n",
       "      <th>atk</th>\n",
       "      <th>catch_rate</th>\n",
       "      <th>category</th>\n",
       "      <th>chinese_name</th>\n",
       "      <th>defense</th>\n",
       "      <th>english_name</th>\n",
       "      <th>exp_100</th>\n",
       "      <th>generation</th>\n",
       "      <th>hatch_time</th>\n",
       "      <th>height_m</th>\n",
       "      <th>hp</th>\n",
       "      <th>image_url</th>\n",
       "      <th>male_ratio</th>\n",
       "      <th>spatk</th>\n",
       "      <th>spdef</th>\n",
       "      <th>speed</th>\n",
       "      <th>total</th>\n",
       "      <th>type_1</th>\n",
       "      <th>type_2</th>\n",
       "      <th>weight_kg</th>\n",
       "    </tr>\n",
       "  </thead>\n",
       "  <tbody>\n",
       "    <tr>\n",
       "      <th>0</th>\n",
       "      <td>1</td>\n",
       "      <td>茂盛</td>\n",
       "      <td>叶绿素隱藏特性</td>\n",
       "      <td>1</td>\n",
       "      <td>1</td>\n",
       "      <td>1</td>\n",
       "      <td>1⁄2</td>\n",
       "      <td>1⁄2</td>\n",
       "      <td>1⁄2</td>\n",
       "      <td>2</td>\n",
       "      <td>2</td>\n",
       "      <td>1</td>\n",
       "      <td>1⁄4</td>\n",
       "      <td>1</td>\n",
       "      <td>2</td>\n",
       "      <td>1</td>\n",
       "      <td>1</td>\n",
       "      <td>2</td>\n",
       "      <td>1</td>\n",
       "      <td>1</td>\n",
       "      <td>1⁄2</td>\n",
       "      <td>49</td>\n",
       "      <td>5.9%</td>\n",
       "      <td>种子宝可梦</td>\n",
       "      <td>妙蛙种子</td>\n",
       "      <td>49</td>\n",
       "      <td>Bulbasaur</td>\n",
       "      <td>1,059,860</td>\n",
       "      <td>第一世代寶可夢</td>\n",
       "      <td>5140步</td>\n",
       "      <td>0.7</td>\n",
       "      <td>45</td>\n",
       "      <td>https://media.52poke.com/wiki/thumb/2/21/001Bu...</td>\n",
       "      <td>87.5%</td>\n",
       "      <td>65</td>\n",
       "      <td>65</td>\n",
       "      <td>45</td>\n",
       "      <td>318</td>\n",
       "      <td>草</td>\n",
       "      <td>毒</td>\n",
       "      <td>6.9</td>\n",
       "    </tr>\n",
       "    <tr>\n",
       "      <th>1</th>\n",
       "      <td>2</td>\n",
       "      <td>茂盛</td>\n",
       "      <td>叶绿素隱藏特性</td>\n",
       "      <td>1</td>\n",
       "      <td>1</td>\n",
       "      <td>1</td>\n",
       "      <td>1⁄2</td>\n",
       "      <td>1⁄2</td>\n",
       "      <td>1⁄2</td>\n",
       "      <td>2</td>\n",
       "      <td>2</td>\n",
       "      <td>1</td>\n",
       "      <td>1⁄4</td>\n",
       "      <td>1</td>\n",
       "      <td>2</td>\n",
       "      <td>1</td>\n",
       "      <td>1</td>\n",
       "      <td>2</td>\n",
       "      <td>1</td>\n",
       "      <td>1</td>\n",
       "      <td>1⁄2</td>\n",
       "      <td>62</td>\n",
       "      <td>5.9%</td>\n",
       "      <td>种子宝可梦</td>\n",
       "      <td>妙蛙草</td>\n",
       "      <td>63</td>\n",
       "      <td>Ivysaur</td>\n",
       "      <td>1,059,860</td>\n",
       "      <td>第一世代寶可夢</td>\n",
       "      <td>5140步</td>\n",
       "      <td>1.0</td>\n",
       "      <td>60</td>\n",
       "      <td>https://media.52poke.com/wiki/thumb/7/73/002Iv...</td>\n",
       "      <td>87.5%</td>\n",
       "      <td>80</td>\n",
       "      <td>80</td>\n",
       "      <td>60</td>\n",
       "      <td>405</td>\n",
       "      <td>草</td>\n",
       "      <td>毒</td>\n",
       "      <td>3.0</td>\n",
       "    </tr>\n",
       "    <tr>\n",
       "      <th>2</th>\n",
       "      <td>3</td>\n",
       "      <td>茂盛</td>\n",
       "      <td>叶绿素隱藏特性</td>\n",
       "      <td>1</td>\n",
       "      <td>1</td>\n",
       "      <td>1</td>\n",
       "      <td>1⁄2</td>\n",
       "      <td>1⁄2</td>\n",
       "      <td>1⁄2</td>\n",
       "      <td>1</td>\n",
       "      <td>2</td>\n",
       "      <td>1</td>\n",
       "      <td>1⁄4</td>\n",
       "      <td>1</td>\n",
       "      <td>1</td>\n",
       "      <td>1</td>\n",
       "      <td>1</td>\n",
       "      <td>2</td>\n",
       "      <td>1</td>\n",
       "      <td>1</td>\n",
       "      <td>1⁄2</td>\n",
       "      <td>82</td>\n",
       "      <td>5.9%</td>\n",
       "      <td>种子宝可梦</td>\n",
       "      <td>妙蛙花</td>\n",
       "      <td>83</td>\n",
       "      <td>Venusaur</td>\n",
       "      <td>1,059,860</td>\n",
       "      <td>第一世代寶可夢</td>\n",
       "      <td>5140步</td>\n",
       "      <td>2.0</td>\n",
       "      <td>80</td>\n",
       "      <td>https://media.52poke.com/wiki/thumb/a/ae/003Ve...</td>\n",
       "      <td>87.5%</td>\n",
       "      <td>100</td>\n",
       "      <td>100</td>\n",
       "      <td>80</td>\n",
       "      <td>525</td>\n",
       "      <td>草</td>\n",
       "      <td>毒</td>\n",
       "      <td>100.0</td>\n",
       "    </tr>\n",
       "    <tr>\n",
       "      <th>3</th>\n",
       "      <td>4</td>\n",
       "      <td>猛火</td>\n",
       "      <td>太阳之力隱藏特性</td>\n",
       "      <td>1⁄2</td>\n",
       "      <td>1</td>\n",
       "      <td>1</td>\n",
       "      <td>1</td>\n",
       "      <td>1⁄2</td>\n",
       "      <td>1</td>\n",
       "      <td>1⁄2</td>\n",
       "      <td>1</td>\n",
       "      <td>1</td>\n",
       "      <td>1⁄2</td>\n",
       "      <td>2</td>\n",
       "      <td>1⁄2</td>\n",
       "      <td>1</td>\n",
       "      <td>1</td>\n",
       "      <td>1</td>\n",
       "      <td>2</td>\n",
       "      <td>1⁄2</td>\n",
       "      <td>2</td>\n",
       "      <td>52</td>\n",
       "      <td>5.9%</td>\n",
       "      <td>蜥蜴宝可梦</td>\n",
       "      <td>小火龙</td>\n",
       "      <td>43</td>\n",
       "      <td>Charmander</td>\n",
       "      <td>1,059,860</td>\n",
       "      <td>第一世代寶可夢</td>\n",
       "      <td>5140步</td>\n",
       "      <td>0.6</td>\n",
       "      <td>39</td>\n",
       "      <td>https://media.52poke.com/wiki/thumb/7/73/004Ch...</td>\n",
       "      <td>87.5%</td>\n",
       "      <td>60</td>\n",
       "      <td>50</td>\n",
       "      <td>65</td>\n",
       "      <td>309</td>\n",
       "      <td>火</td>\n",
       "      <td>NaN</td>\n",
       "      <td>8.5</td>\n",
       "    </tr>\n",
       "    <tr>\n",
       "      <th>4</th>\n",
       "      <td>5</td>\n",
       "      <td>猛火</td>\n",
       "      <td>太阳之力隱藏特性</td>\n",
       "      <td>1⁄2</td>\n",
       "      <td>1</td>\n",
       "      <td>1</td>\n",
       "      <td>1</td>\n",
       "      <td>1⁄2</td>\n",
       "      <td>1</td>\n",
       "      <td>1⁄2</td>\n",
       "      <td>1</td>\n",
       "      <td>1</td>\n",
       "      <td>1⁄2</td>\n",
       "      <td>2</td>\n",
       "      <td>1⁄2</td>\n",
       "      <td>1</td>\n",
       "      <td>1</td>\n",
       "      <td>1</td>\n",
       "      <td>2</td>\n",
       "      <td>1⁄2</td>\n",
       "      <td>2</td>\n",
       "      <td>64</td>\n",
       "      <td>5.9%</td>\n",
       "      <td>火焰宝可梦</td>\n",
       "      <td>火恐龙</td>\n",
       "      <td>58</td>\n",
       "      <td>Charmeleon</td>\n",
       "      <td>1,059,860</td>\n",
       "      <td>第一世代寶可夢</td>\n",
       "      <td>5140步</td>\n",
       "      <td>1.1</td>\n",
       "      <td>58</td>\n",
       "      <td>https://media.52poke.com/wiki/4/4a/005Charmele...</td>\n",
       "      <td>87.5%</td>\n",
       "      <td>80</td>\n",
       "      <td>65</td>\n",
       "      <td>80</td>\n",
       "      <td>405</td>\n",
       "      <td>火</td>\n",
       "      <td>NaN</td>\n",
       "      <td>9.0</td>\n",
       "    </tr>\n",
       "  </tbody>\n",
       "</table>\n",
       "</div>"
      ],
      "text/plain": [
       "   _id ability_1 ability_2 against_bug against_dark against_dragon  \\\n",
       "0    1        茂盛   叶绿素隱藏特性           1            1              1   \n",
       "1    2        茂盛   叶绿素隱藏特性           1            1              1   \n",
       "2    3        茂盛   叶绿素隱藏特性           1            1              1   \n",
       "3    4        猛火  太阳之力隱藏特性         1⁄2            1              1   \n",
       "4    5        猛火  太阳之力隱藏特性         1⁄2            1              1   \n",
       "\n",
       "  against_electric against_fairy against_fight against_fire against_flying  \\\n",
       "0              1⁄2           1⁄2           1⁄2            2              2   \n",
       "1              1⁄2           1⁄2           1⁄2            2              2   \n",
       "2              1⁄2           1⁄2           1⁄2            1              2   \n",
       "3                1           1⁄2             1          1⁄2              1   \n",
       "4                1           1⁄2             1          1⁄2              1   \n",
       "\n",
       "  against_ghost against_grass against_ground against_ice against_normal  \\\n",
       "0             1           1⁄4              1           2              1   \n",
       "1             1           1⁄4              1           2              1   \n",
       "2             1           1⁄4              1           1              1   \n",
       "3             1           1⁄2              2         1⁄2              1   \n",
       "4             1           1⁄2              2         1⁄2              1   \n",
       "\n",
       "  against_poison against_psychic against_rock against_steel against_water  \\\n",
       "0              1               2            1             1           1⁄2   \n",
       "1              1               2            1             1           1⁄2   \n",
       "2              1               2            1             1           1⁄2   \n",
       "3              1               1            2           1⁄2             2   \n",
       "4              1               1            2           1⁄2             2   \n",
       "\n",
       "   atk catch_rate category chinese_name  defense english_name    exp_100  \\\n",
       "0   49       5.9%    种子宝可梦         妙蛙种子       49    Bulbasaur  1,059,860   \n",
       "1   62       5.9%    种子宝可梦          妙蛙草       63      Ivysaur  1,059,860   \n",
       "2   82       5.9%    种子宝可梦          妙蛙花       83     Venusaur  1,059,860   \n",
       "3   52       5.9%    蜥蜴宝可梦          小火龙       43   Charmander  1,059,860   \n",
       "4   64       5.9%    火焰宝可梦          火恐龙       58   Charmeleon  1,059,860   \n",
       "\n",
       "  generation hatch_time  height_m  hp  \\\n",
       "0    第一世代寶可夢      5140步       0.7  45   \n",
       "1    第一世代寶可夢      5140步       1.0  60   \n",
       "2    第一世代寶可夢      5140步       2.0  80   \n",
       "3    第一世代寶可夢      5140步       0.6  39   \n",
       "4    第一世代寶可夢      5140步       1.1  58   \n",
       "\n",
       "                                           image_url male_ratio  spatk  spdef  \\\n",
       "0  https://media.52poke.com/wiki/thumb/2/21/001Bu...      87.5%     65     65   \n",
       "1  https://media.52poke.com/wiki/thumb/7/73/002Iv...      87.5%     80     80   \n",
       "2  https://media.52poke.com/wiki/thumb/a/ae/003Ve...      87.5%    100    100   \n",
       "3  https://media.52poke.com/wiki/thumb/7/73/004Ch...      87.5%     60     50   \n",
       "4  https://media.52poke.com/wiki/4/4a/005Charmele...      87.5%     80     65   \n",
       "\n",
       "   speed  total type_1 type_2  weight_kg  \n",
       "0     45    318      草      毒        6.9  \n",
       "1     60    405      草      毒        3.0  \n",
       "2     80    525      草      毒      100.0  \n",
       "3     65    309      火    NaN        8.5  \n",
       "4     80    405      火    NaN        9.0  "
      ]
     },
     "execution_count": 3,
     "metadata": {},
     "output_type": "execute_result"
    }
   ],
   "source": [
    "df.head()"
   ]
  },
  {
   "cell_type": "code",
   "execution_count": 4,
   "metadata": {},
   "outputs": [
    {
     "data": {
      "text/html": [
       "<div>\n",
       "<style scoped>\n",
       "    .dataframe tbody tr th:only-of-type {\n",
       "        vertical-align: middle;\n",
       "    }\n",
       "\n",
       "    .dataframe tbody tr th {\n",
       "        vertical-align: top;\n",
       "    }\n",
       "\n",
       "    .dataframe thead th {\n",
       "        text-align: right;\n",
       "    }\n",
       "</style>\n",
       "<table border=\"1\" class=\"dataframe\">\n",
       "  <thead>\n",
       "    <tr style=\"text-align: right;\">\n",
       "      <th></th>\n",
       "      <th>_id</th>\n",
       "      <th>atk</th>\n",
       "      <th>defense</th>\n",
       "      <th>height_m</th>\n",
       "      <th>hp</th>\n",
       "      <th>spatk</th>\n",
       "      <th>spdef</th>\n",
       "      <th>speed</th>\n",
       "      <th>total</th>\n",
       "      <th>weight_kg</th>\n",
       "    </tr>\n",
       "  </thead>\n",
       "  <tbody>\n",
       "    <tr>\n",
       "      <th>count</th>\n",
       "      <td>809.000000</td>\n",
       "      <td>809.000000</td>\n",
       "      <td>809.000000</td>\n",
       "      <td>809.000000</td>\n",
       "      <td>809.000000</td>\n",
       "      <td>809.000000</td>\n",
       "      <td>809.000000</td>\n",
       "      <td>809.000000</td>\n",
       "      <td>809.000000</td>\n",
       "      <td>809.000000</td>\n",
       "    </tr>\n",
       "    <tr>\n",
       "      <th>mean</th>\n",
       "      <td>405.000000</td>\n",
       "      <td>76.149567</td>\n",
       "      <td>71.744129</td>\n",
       "      <td>1.144376</td>\n",
       "      <td>68.716934</td>\n",
       "      <td>69.457355</td>\n",
       "      <td>69.951792</td>\n",
       "      <td>65.800989</td>\n",
       "      <td>421.820766</td>\n",
       "      <td>42.555253</td>\n",
       "    </tr>\n",
       "    <tr>\n",
       "      <th>std</th>\n",
       "      <td>233.682477</td>\n",
       "      <td>29.601874</td>\n",
       "      <td>29.749574</td>\n",
       "      <td>0.972542</td>\n",
       "      <td>26.095127</td>\n",
       "      <td>29.408710</td>\n",
       "      <td>27.277795</td>\n",
       "      <td>27.797022</td>\n",
       "      <td>111.006305</td>\n",
       "      <td>117.980995</td>\n",
       "    </tr>\n",
       "    <tr>\n",
       "      <th>min</th>\n",
       "      <td>1.000000</td>\n",
       "      <td>5.000000</td>\n",
       "      <td>5.000000</td>\n",
       "      <td>0.000000</td>\n",
       "      <td>1.000000</td>\n",
       "      <td>10.000000</td>\n",
       "      <td>20.000000</td>\n",
       "      <td>5.000000</td>\n",
       "      <td>175.000000</td>\n",
       "      <td>0.000000</td>\n",
       "    </tr>\n",
       "    <tr>\n",
       "      <th>25%</th>\n",
       "      <td>203.000000</td>\n",
       "      <td>55.000000</td>\n",
       "      <td>50.000000</td>\n",
       "      <td>0.600000</td>\n",
       "      <td>50.000000</td>\n",
       "      <td>45.000000</td>\n",
       "      <td>50.000000</td>\n",
       "      <td>45.000000</td>\n",
       "      <td>320.000000</td>\n",
       "      <td>2.000000</td>\n",
       "    </tr>\n",
       "    <tr>\n",
       "      <th>50%</th>\n",
       "      <td>405.000000</td>\n",
       "      <td>75.000000</td>\n",
       "      <td>67.000000</td>\n",
       "      <td>1.000000</td>\n",
       "      <td>65.000000</td>\n",
       "      <td>65.000000</td>\n",
       "      <td>65.000000</td>\n",
       "      <td>65.000000</td>\n",
       "      <td>431.000000</td>\n",
       "      <td>5.000000</td>\n",
       "    </tr>\n",
       "    <tr>\n",
       "      <th>75%</th>\n",
       "      <td>607.000000</td>\n",
       "      <td>95.000000</td>\n",
       "      <td>89.000000</td>\n",
       "      <td>1.500000</td>\n",
       "      <td>80.000000</td>\n",
       "      <td>90.000000</td>\n",
       "      <td>85.000000</td>\n",
       "      <td>85.000000</td>\n",
       "      <td>500.000000</td>\n",
       "      <td>8.500000</td>\n",
       "    </tr>\n",
       "    <tr>\n",
       "      <th>max</th>\n",
       "      <td>809.000000</td>\n",
       "      <td>181.000000</td>\n",
       "      <td>230.000000</td>\n",
       "      <td>9.200000</td>\n",
       "      <td>255.000000</td>\n",
       "      <td>173.000000</td>\n",
       "      <td>230.000000</td>\n",
       "      <td>160.000000</td>\n",
       "      <td>720.000000</td>\n",
       "      <td>999.000000</td>\n",
       "    </tr>\n",
       "  </tbody>\n",
       "</table>\n",
       "</div>"
      ],
      "text/plain": [
       "              _id         atk     defense    height_m          hp       spatk  \\\n",
       "count  809.000000  809.000000  809.000000  809.000000  809.000000  809.000000   \n",
       "mean   405.000000   76.149567   71.744129    1.144376   68.716934   69.457355   \n",
       "std    233.682477   29.601874   29.749574    0.972542   26.095127   29.408710   \n",
       "min      1.000000    5.000000    5.000000    0.000000    1.000000   10.000000   \n",
       "25%    203.000000   55.000000   50.000000    0.600000   50.000000   45.000000   \n",
       "50%    405.000000   75.000000   67.000000    1.000000   65.000000   65.000000   \n",
       "75%    607.000000   95.000000   89.000000    1.500000   80.000000   90.000000   \n",
       "max    809.000000  181.000000  230.000000    9.200000  255.000000  173.000000   \n",
       "\n",
       "            spdef       speed       total   weight_kg  \n",
       "count  809.000000  809.000000  809.000000  809.000000  \n",
       "mean    69.951792   65.800989  421.820766   42.555253  \n",
       "std     27.277795   27.797022  111.006305  117.980995  \n",
       "min     20.000000    5.000000  175.000000    0.000000  \n",
       "25%     50.000000   45.000000  320.000000    2.000000  \n",
       "50%     65.000000   65.000000  431.000000    5.000000  \n",
       "75%     85.000000   85.000000  500.000000    8.500000  \n",
       "max    230.000000  160.000000  720.000000  999.000000  "
      ]
     },
     "execution_count": 4,
     "metadata": {},
     "output_type": "execute_result"
    }
   ],
   "source": [
    "df.describe()"
   ]
  },
  {
   "cell_type": "code",
   "execution_count": 5,
   "metadata": {
    "scrolled": true
   },
   "outputs": [
    {
     "name": "stdout",
     "output_type": "stream",
     "text": [
      "<class 'pandas.core.frame.DataFrame'>\n",
      "RangeIndex: 809 entries, 0 to 808\n",
      "Data columns (total 41 columns):\n",
      "_id                 809 non-null int64\n",
      "ability_1           809 non-null object\n",
      "ability_2           691 non-null object\n",
      "against_bug         809 non-null object\n",
      "against_dark        809 non-null object\n",
      "against_dragon      809 non-null object\n",
      "against_electric    809 non-null object\n",
      "against_fairy       803 non-null object\n",
      "against_fight       809 non-null object\n",
      "against_fire        809 non-null object\n",
      "against_flying      809 non-null object\n",
      "against_ghost       809 non-null object\n",
      "against_grass       809 non-null object\n",
      "against_ground      809 non-null object\n",
      "against_ice         809 non-null object\n",
      "against_normal      809 non-null object\n",
      "against_poison      809 non-null object\n",
      "against_psychic     809 non-null object\n",
      "against_rock        809 non-null object\n",
      "against_steel       809 non-null object\n",
      "against_water       809 non-null object\n",
      "atk                 809 non-null int64\n",
      "catch_rate          809 non-null object\n",
      "category            809 non-null object\n",
      "chinese_name        809 non-null object\n",
      "defense             809 non-null int64\n",
      "english_name        809 non-null object\n",
      "exp_100             809 non-null object\n",
      "generation          809 non-null object\n",
      "hatch_time          809 non-null object\n",
      "height_m            809 non-null float64\n",
      "hp                  809 non-null int64\n",
      "image_url           809 non-null object\n",
      "male_ratio          809 non-null object\n",
      "spatk               809 non-null int64\n",
      "spdef               809 non-null int64\n",
      "speed               809 non-null int64\n",
      "total               809 non-null int64\n",
      "type_1              809 non-null object\n",
      "type_2              405 non-null object\n",
      "weight_kg           809 non-null float64\n",
      "dtypes: float64(2), int64(8), object(31)\n",
      "memory usage: 259.2+ KB\n"
     ]
    }
   ],
   "source": [
    "df.info()"
   ]
  },
  {
   "cell_type": "markdown",
   "metadata": {},
   "source": [
    "### 2. 更改数据类型"
   ]
  },
  {
   "cell_type": "code",
   "execution_count": 6,
   "metadata": {},
   "outputs": [],
   "source": [
    "def convert_object_to_float(o):\n",
    "    '''\n",
    "    删除百分号，将 object 转换成 float\n",
    "    '''\n",
    "    if o == '无性别':\n",
    "        return None\n",
    "    return float(o.strip('%')) / 100"
   ]
  },
  {
   "cell_type": "code",
   "execution_count": 7,
   "metadata": {},
   "outputs": [],
   "source": [
    "# catch_rate object -> float\n",
    "df.catch_rate =  df.catch_rate.apply(convert_object_to_float)"
   ]
  },
  {
   "cell_type": "code",
   "execution_count": 8,
   "metadata": {},
   "outputs": [],
   "source": [
    "# male_ratio object -> float\n",
    "df.male_ratio = df.male_ratio.apply(convert_object_to_float)"
   ]
  },
  {
   "cell_type": "code",
   "execution_count": 9,
   "metadata": {},
   "outputs": [],
   "source": [
    "def convert_hatch_time(o):\n",
    "    '''\n",
    "    删除 ''步'' ，将 object 转换成 int\n",
    "    '''\n",
    "    return int(o.strip('步'))"
   ]
  },
  {
   "cell_type": "code",
   "execution_count": 10,
   "metadata": {},
   "outputs": [],
   "source": [
    "# hatch_time object -> int\n",
    "df.hatch_time = df.hatch_time.apply(convert_hatch_time)"
   ]
  },
  {
   "cell_type": "code",
   "execution_count": 11,
   "metadata": {
    "scrolled": true
   },
   "outputs": [],
   "source": [
    "df_against = df[['against_bug',  'against_dark', \n",
    "                       'against_dragon', 'against_electric', \n",
    "                       'against_fairy', 'against_fight', \n",
    "                       'against_fire', 'against_flying',\n",
    "                       'against_ghost', 'against_grass',\n",
    "                       'against_ground', 'against_ice',\n",
    "                       'against_normal', 'against_poison',\n",
    "                       'against_psychic', 'against_rock',\n",
    "                       'against_steel', 'against_water']]"
   ]
  },
  {
   "cell_type": "code",
   "execution_count": 12,
   "metadata": {},
   "outputs": [],
   "source": [
    "def convert_against(o):\n",
    "    '''\n",
    "    将字符形式的值转换成 float\n",
    "    '''\n",
    "    if o == '1⁄2':\n",
    "        return 0.5\n",
    "    elif o == '11⁄2':\n",
    "        return 0.5\n",
    "    elif o == '21⁄2':\n",
    "        return 0.5\n",
    "    elif o == '1⁄4':\n",
    "        return 0.25\n",
    "    elif o == '11⁄4':\n",
    "        return 0.25\n",
    "    elif o == '1⁄8':\n",
    "        return 0.125\n",
    "    elif o == None:\n",
    "        return None\n",
    "    else:\n",
    "        return float(o)"
   ]
  },
  {
   "cell_type": "code",
   "execution_count": 13,
   "metadata": {},
   "outputs": [],
   "source": [
    "df_against = df_against.applymap(convert_against)"
   ]
  },
  {
   "cell_type": "code",
   "execution_count": 14,
   "metadata": {},
   "outputs": [],
   "source": [
    "df[['against_bug',  'against_dark', \n",
    "'against_dragon', 'against_electric', \n",
    "'against_fairy', 'against_fight', \n",
    "'against_fire', 'against_flying',\n",
    "'against_ghost', 'against_grass',\n",
    "'against_ground', 'against_ice',\n",
    "'against_normal', 'against_poison',\n",
    "'against_psychic', 'against_rock',\n",
    "'against_steel', 'against_water']] = df_against"
   ]
  },
  {
   "cell_type": "code",
   "execution_count": 20,
   "metadata": {},
   "outputs": [],
   "source": [
    "def convert_generation(o):\n",
    "    '''\n",
    "    将 第X世代宝可梦 转换成 int\n",
    "    '''\n",
    "    if o == '第一世代寶可夢':\n",
    "        return 1\n",
    "    elif o == '第二世代寶可夢':\n",
    "        return 2\n",
    "    elif o == '第三世代寶可夢':\n",
    "        return 3\n",
    "    elif o == '第四世代寶可夢':\n",
    "        return 4\n",
    "    elif o == '第五世代寶可夢':\n",
    "        return 5\n",
    "    elif o == '第六世代寶可夢':\n",
    "        return 6\n",
    "    elif o == '第七世代寶可夢':\n",
    "        return 7"
   ]
  },
  {
   "cell_type": "code",
   "execution_count": 21,
   "metadata": {},
   "outputs": [],
   "source": [
    "# generation object -> int\n",
    "df.generation = df.generation.apply(convert_generation)"
   ]
  },
  {
   "cell_type": "code",
   "execution_count": 22,
   "metadata": {},
   "outputs": [
    {
     "name": "stdout",
     "output_type": "stream",
     "text": [
      "<class 'pandas.core.frame.DataFrame'>\n",
      "RangeIndex: 809 entries, 0 to 808\n",
      "Data columns (total 41 columns):\n",
      "_id                 809 non-null int64\n",
      "ability_1           809 non-null object\n",
      "ability_2           691 non-null object\n",
      "against_bug         809 non-null float64\n",
      "against_dark        809 non-null float64\n",
      "against_dragon      809 non-null float64\n",
      "against_electric    809 non-null float64\n",
      "against_fairy       803 non-null float64\n",
      "against_fight       809 non-null float64\n",
      "against_fire        809 non-null float64\n",
      "against_flying      809 non-null float64\n",
      "against_ghost       809 non-null float64\n",
      "against_grass       809 non-null float64\n",
      "against_ground      809 non-null float64\n",
      "against_ice         809 non-null float64\n",
      "against_normal      809 non-null float64\n",
      "against_poison      809 non-null float64\n",
      "against_psychic     809 non-null float64\n",
      "against_rock        809 non-null float64\n",
      "against_steel       809 non-null float64\n",
      "against_water       809 non-null float64\n",
      "atk                 809 non-null int64\n",
      "catch_rate          809 non-null float64\n",
      "category            809 non-null object\n",
      "chinese_name        809 non-null object\n",
      "defense             809 non-null int64\n",
      "english_name        809 non-null object\n",
      "exp_100             809 non-null object\n",
      "generation          809 non-null int64\n",
      "hatch_time          809 non-null int64\n",
      "height_m            809 non-null float64\n",
      "hp                  809 non-null int64\n",
      "image_url           809 non-null object\n",
      "male_ratio          703 non-null float64\n",
      "spatk               809 non-null int64\n",
      "spdef               809 non-null int64\n",
      "speed               809 non-null int64\n",
      "total               809 non-null int64\n",
      "type_1              809 non-null object\n",
      "type_2              405 non-null object\n",
      "weight_kg           809 non-null float64\n",
      "dtypes: float64(22), int64(10), object(9)\n",
      "memory usage: 259.2+ KB\n"
     ]
    }
   ],
   "source": [
    "df.info()"
   ]
  },
  {
   "cell_type": "markdown",
   "metadata": {},
   "source": [
    "部分 Pokemon 只有一种特性，故 ability_2 具有缺失值  \n",
    "部分 Pokemon 只有一种属性，故 type_2 具有缺失值  \n",
    "部分 Pokemon 没有性别，故 male_ratio 具有缺失值"
   ]
  },
  {
   "cell_type": "markdown",
   "metadata": {},
   "source": [
    "<a id='eda'></a>\n",
    "## 三. 探索性数据分析"
   ]
  },
  {
   "cell_type": "code",
   "execution_count": 134,
   "metadata": {},
   "outputs": [],
   "source": [
    "def draw_chart(data, kind, color, title, xlabel, ylabel, figsize=(9, 6)):\n",
    "    '''\n",
    "    根据传入的值绘制对应图表\n",
    "    '''\n",
    "    # 设置字体\n",
    "    font = fm.FontProperties(fname='/System/Library/Fonts/STHeiti Light.ttc')\n",
    "    # 绘制图表\n",
    "    data.plot(kind=kind, color=color, alpha=.7, figsize=figsize)\n",
    "    plt.title(title, fontproperties=font)\n",
    "    plt.xlabel(xlabel, fontproperties=font)\n",
    "    plt.ylabel(ylabel, fontproperties=font)\n",
    "    plt.xticks(fontproperties=font)"
   ]
  },
  {
   "cell_type": "markdown",
   "metadata": {},
   "source": [
    "### 1. 具有双属性 Pokemon 的比例"
   ]
  },
  {
   "cell_type": "code",
   "execution_count": 16,
   "metadata": {},
   "outputs": [
    {
     "data": {
      "text/plain": [
       "0.5006180469715699"
      ]
     },
     "execution_count": 16,
     "metadata": {},
     "output_type": "execute_result"
    }
   ],
   "source": [
    "df.type_2.count() / df.shape[0]"
   ]
  },
  {
   "cell_type": "markdown",
   "metadata": {},
   "source": [
    "有超过一半的 Pokemon 具有双属性"
   ]
  },
  {
   "cell_type": "markdown",
   "metadata": {},
   "source": [
    "### 2. 最常见的 Pokemon 种类"
   ]
  },
  {
   "cell_type": "code",
   "execution_count": 17,
   "metadata": {},
   "outputs": [],
   "source": [
    "most_fre_category = df.category.value_counts()[:10]"
   ]
  },
  {
   "cell_type": "code",
   "execution_count": 129,
   "metadata": {},
   "outputs": [
    {
     "data": {
      "image/png": "[encoded data removed]",
      "text/plain": [
       "<Figure size 648x432 with 1 Axes>"
      ]
     },
     "metadata": {
      "needs_background": "light"
     },
     "output_type": "display_data"
    }
   ],
   "source": [
    "draw_chart(most_fre_category, 'bar', 'limegreen', '最常见的 Pokemon 种类', '种类', '数量')\n",
    "plt.show()"
   ]
  },
  {
   "cell_type": "markdown",
   "metadata": {},
   "source": [
    "右上图可知，最常见的 Pokemon 种类是龙、蘑菇和毒针类"
   ]
  },
  {
   "cell_type": "markdown",
   "metadata": {},
   "source": [
    "### 3. 最常见的 Pokemon 属性"
   ]
  },
  {
   "cell_type": "code",
   "execution_count": 52,
   "metadata": {},
   "outputs": [],
   "source": [
    "most_fre_type = df.type_1.value_counts()"
   ]
  },
  {
   "cell_type": "code",
   "execution_count": 130,
   "metadata": {},
   "outputs": [
    {
     "data": {
      "image/png": "[encoded data removed]",
      "text/plain": [
       "<Figure size 936x504 with 1 Axes>"
      ]
     },
     "metadata": {
      "needs_background": "light"
     },
     "output_type": "display_data"
    }
   ],
   "source": [
    "draw_chart(most_fre_type, 'bar', 'lightsalmon', '最常见的 Pokemon 属性', '属性', '数量', (13, 7))\n",
    "plt.show()"
   ]
  },
  {
   "cell_type": "markdown",
   "metadata": {},
   "source": [
    "### 4. 各代种族值最高的Pokemon"
   ]
  },
  {
   "cell_type": "code",
   "execution_count": 27,
   "metadata": {},
   "outputs": [],
   "source": [
    "top_base_df = pd.DataFrame(columns=df.columns)\n",
    "for i in range(7):\n",
    "    top_base_df.loc[i] = df.iloc[df[df['generation'] == i+1].total.idxmax()]"
   ]
  },
  {
   "cell_type": "code",
   "execution_count": 110,
   "metadata": {},
   "outputs": [
    {
     "data": {
      "text/html": [
       "<div>\n",
       "<style scoped>\n",
       "    .dataframe tbody tr th:only-of-type {\n",
       "        vertical-align: middle;\n",
       "    }\n",
       "\n",
       "    .dataframe tbody tr th {\n",
       "        vertical-align: top;\n",
       "    }\n",
       "\n",
       "    .dataframe thead th {\n",
       "        text-align: right;\n",
       "    }\n",
       "</style>\n",
       "<table border=\"1\" class=\"dataframe\">\n",
       "  <thead>\n",
       "    <tr style=\"text-align: right;\">\n",
       "      <th></th>\n",
       "      <th>chinese_name</th>\n",
       "      <th>total</th>\n",
       "      <th>hp</th>\n",
       "      <th>atk</th>\n",
       "      <th>defense</th>\n",
       "      <th>spatk</th>\n",
       "      <th>spdef</th>\n",
       "      <th>speed</th>\n",
       "      <th>generation</th>\n",
       "    </tr>\n",
       "  </thead>\n",
       "  <tbody>\n",
       "    <tr>\n",
       "      <th>0</th>\n",
       "      <td>超梦</td>\n",
       "      <td>680</td>\n",
       "      <td>106</td>\n",
       "      <td>110</td>\n",
       "      <td>90</td>\n",
       "      <td>154</td>\n",
       "      <td>90</td>\n",
       "      <td>130</td>\n",
       "      <td>1</td>\n",
       "    </tr>\n",
       "    <tr>\n",
       "      <th>1</th>\n",
       "      <td>洛奇亚</td>\n",
       "      <td>680</td>\n",
       "      <td>106</td>\n",
       "      <td>90</td>\n",
       "      <td>130</td>\n",
       "      <td>90</td>\n",
       "      <td>154</td>\n",
       "      <td>110</td>\n",
       "      <td>2</td>\n",
       "    </tr>\n",
       "    <tr>\n",
       "      <th>2</th>\n",
       "      <td>烈空坐</td>\n",
       "      <td>680</td>\n",
       "      <td>105</td>\n",
       "      <td>150</td>\n",
       "      <td>90</td>\n",
       "      <td>150</td>\n",
       "      <td>90</td>\n",
       "      <td>95</td>\n",
       "      <td>3</td>\n",
       "    </tr>\n",
       "    <tr>\n",
       "      <th>3</th>\n",
       "      <td>阿尔宙斯</td>\n",
       "      <td>720</td>\n",
       "      <td>120</td>\n",
       "      <td>120</td>\n",
       "      <td>120</td>\n",
       "      <td>120</td>\n",
       "      <td>120</td>\n",
       "      <td>120</td>\n",
       "      <td>4</td>\n",
       "    </tr>\n",
       "    <tr>\n",
       "      <th>4</th>\n",
       "      <td>莱希拉姆</td>\n",
       "      <td>680</td>\n",
       "      <td>100</td>\n",
       "      <td>120</td>\n",
       "      <td>100</td>\n",
       "      <td>150</td>\n",
       "      <td>120</td>\n",
       "      <td>90</td>\n",
       "      <td>5</td>\n",
       "    </tr>\n",
       "    <tr>\n",
       "      <th>5</th>\n",
       "      <td>哲尔尼亚斯</td>\n",
       "      <td>680</td>\n",
       "      <td>126</td>\n",
       "      <td>131</td>\n",
       "      <td>95</td>\n",
       "      <td>131</td>\n",
       "      <td>98</td>\n",
       "      <td>99</td>\n",
       "      <td>6</td>\n",
       "    </tr>\n",
       "    <tr>\n",
       "      <th>6</th>\n",
       "      <td>索尔迦雷欧</td>\n",
       "      <td>680</td>\n",
       "      <td>137</td>\n",
       "      <td>137</td>\n",
       "      <td>107</td>\n",
       "      <td>113</td>\n",
       "      <td>89</td>\n",
       "      <td>97</td>\n",
       "      <td>7</td>\n",
       "    </tr>\n",
       "  </tbody>\n",
       "</table>\n",
       "</div>"
      ],
      "text/plain": [
       "  chinese_name total   hp  atk defense spatk spdef speed generation\n",
       "0           超梦   680  106  110      90   154    90   130          1\n",
       "1          洛奇亚   680  106   90     130    90   154   110          2\n",
       "2          烈空坐   680  105  150      90   150    90    95          3\n",
       "3         阿尔宙斯   720  120  120     120   120   120   120          4\n",
       "4         莱希拉姆   680  100  120     100   150   120    90          5\n",
       "5        哲尔尼亚斯   680  126  131      95   131    98    99          6\n",
       "6        索尔迦雷欧   680  137  137     107   113    89    97          7"
      ]
     },
     "execution_count": 110,
     "metadata": {},
     "output_type": "execute_result"
    }
   ],
   "source": [
    "top_base_df[['chinese_name', 'total', 'hp', 'atk', 'defense', 'spatk', 'spdef', 'speed', 'generation']]"
   ]
  },
  {
   "cell_type": "markdown",
   "metadata": {},
   "source": [
    "### 5. Pokemon性别比例"
   ]
  },
  {
   "cell_type": "code",
   "execution_count": 63,
   "metadata": {},
   "outputs": [],
   "source": [
    "df_gender = pd.DataFrame({'male_ratio': df.male_ratio, 'female_ratio': 1-df.male_ratio})"
   ]
  },
  {
   "cell_type": "code",
   "execution_count": 112,
   "metadata": {},
   "outputs": [
    {
     "data": {
      "image/png": "[encoded data removed]",
      "text/plain": [
       "<Figure size 648x432 with 1 Axes>"
      ]
     },
     "metadata": {
      "needs_background": "light"
     },
     "output_type": "display_data"
    }
   ],
   "source": [
    "df_gender.boxplot(figsize=(9, 6))\n",
    "plt.title('Pokemon 性别比例', fontproperties=font);"
   ]
  },
  {
   "cell_type": "markdown",
   "metadata": {},
   "source": [
    "### 6. Pokemon平均身高和体重"
   ]
  },
  {
   "cell_type": "code",
   "execution_count": 30,
   "metadata": {},
   "outputs": [],
   "source": [
    "mean_height = []\n",
    "mean_weight = []\n",
    "\n",
    "for i in range(7):\n",
    "    mean_height.append(df[df['generation'] == i+1].height_m.mean())\n",
    "    mean_weight.append(df[df['generation'] == i+1].weight_kg.mean())"
   ]
  },
  {
   "cell_type": "code",
   "execution_count": 97,
   "metadata": {},
   "outputs": [],
   "source": [
    "heights = pd.DataFrame({'height_m': mean_height}, index=[1,2,3,4,5,6,7])"
   ]
  },
  {
   "cell_type": "code",
   "execution_count": 136,
   "metadata": {},
   "outputs": [
    {
     "data": {
      "image/png": "[encoded data removed]",
      "text/plain": [
       "<Figure size 648x432 with 1 Axes>"
      ]
     },
     "metadata": {
      "needs_background": "light"
     },
     "output_type": "display_data"
    }
   ],
   "source": [
    "draw_chart(heights, 'line', 'dodgerblue', 'Pokemon 平均身高', '世代', '身高')\n",
    "plt.axhline(df.height_m.mean(), color='lime')\n",
    "plt.show();"
   ]
  },
  {
   "cell_type": "code",
   "execution_count": 99,
   "metadata": {},
   "outputs": [],
   "source": [
    "weights = pd.DataFrame({'weight_kg': mean_weight}, index=[1,2,3,4,5,6,7])"
   ]
  },
  {
   "cell_type": "code",
   "execution_count": 137,
   "metadata": {},
   "outputs": [
    {
     "data": {
      "image/png": "[encoded data removed]",
      "text/plain": [
       "<Figure size 648x432 with 1 Axes>"
      ]
     },
     "metadata": {
      "needs_background": "light"
     },
     "output_type": "display_data"
    }
   ],
   "source": [
    "draw_chart(weights, 'line', 'dodgerblue', 'Pokemon 平均体重', '世代', '体重')\n",
    "plt.axhline(df.weight_kg.mean(), color='lime')\n",
    "plt.show();"
   ]
  },
  {
   "cell_type": "markdown",
   "metadata": {},
   "source": [
    "### 7. 生命值、攻击力、防御力、特殊攻击力和特殊防御力分别最高的Pokemon"
   ]
  },
  {
   "cell_type": "code",
   "execution_count": 38,
   "metadata": {},
   "outputs": [
    {
     "data": {
      "text/plain": [
       "'幸福蛋'"
      ]
     },
     "execution_count": 38,
     "metadata": {},
     "output_type": "execute_result"
    }
   ],
   "source": [
    "df.iloc[df.hp.idxmax()]['chinese_name']"
   ]
  },
  {
   "cell_type": "code",
   "execution_count": 39,
   "metadata": {},
   "outputs": [
    {
     "data": {
      "text/plain": [
       "'纸御剑'"
      ]
     },
     "execution_count": 39,
     "metadata": {},
     "output_type": "execute_result"
    }
   ],
   "source": [
    "df.iloc[df.atk.idxmax()]['chinese_name']"
   ]
  },
  {
   "cell_type": "code",
   "execution_count": 40,
   "metadata": {},
   "outputs": [
    {
     "data": {
      "text/plain": [
       "'壶壶'"
      ]
     },
     "execution_count": 40,
     "metadata": {},
     "output_type": "execute_result"
    }
   ],
   "source": [
    "df.iloc[df.defense.idxmax()]['chinese_name']"
   ]
  },
  {
   "cell_type": "code",
   "execution_count": 41,
   "metadata": {
    "scrolled": false
   },
   "outputs": [
    {
     "data": {
      "text/plain": [
       "'电束木'"
      ]
     },
     "execution_count": 41,
     "metadata": {},
     "output_type": "execute_result"
    }
   ],
   "source": [
    "df.iloc[df.spatk.idxmax()]['chinese_name']"
   ]
  },
  {
   "cell_type": "code",
   "execution_count": 43,
   "metadata": {},
   "outputs": [
    {
     "data": {
      "text/plain": [
       "'壶壶'"
      ]
     },
     "execution_count": 43,
     "metadata": {},
     "output_type": "execute_result"
    }
   ],
   "source": [
    "df.iloc[df.spdef.idxmax()]['chinese_name']"
   ]
  },
  {
   "cell_type": "code",
   "execution_count": null,
   "metadata": {},
   "outputs": [],
   "source": []
  }
 ],
 "metadata": {
  "kernelspec": {
   "display_name": "Python 3",
   "language": "python",
   "name": "python3"
  },
  "language_info": {
   "codemirror_mode": {
    "name": "ipython",
    "version": 3
   },
   "file_extension": ".py",
   "mimetype": "text/x-python",
   "name": "python",
   "nbconvert_exporter": "python",
   "pygments_lexer": "ipython3",
   "version": "3.6.8"
  }
 },
 "nbformat": 4,
 "nbformat_minor": 2
}
